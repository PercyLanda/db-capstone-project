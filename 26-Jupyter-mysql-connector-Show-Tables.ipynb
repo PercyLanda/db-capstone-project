{
 "cells": [
  {
   "cell_type": "code",
   "execution_count": 1,
   "metadata": {},
   "outputs": [],
   "source": [
    "import mysql.connector as connector"
   ]
  },
  {
   "cell_type": "code",
   "execution_count": 2,
   "metadata": {},
   "outputs": [],
   "source": [
    "# connection = connector.connect(user = \"your_username\", password = \"your_password\", db = \"database_name\") \n",
    "connection = connector.connect(user = \"root\", password = \"@1OG6b4g\", db = \"LittleLemonDB\") "
   ]
  },
  {
   "cell_type": "markdown",
   "metadata": {},
   "source": [
    "In this second task, you now need to query the database to show all tables within the database. \n",
    "\n",
    "Having established a connection in the first task, you need to execute a test query to ensure that there are no issues. You can do this by executing, or passing, a generic query that returns a snapshot of the database tables. \n",
    "\n",
    "You need to execute the query on the cursor using the code that follows. The cursor, as you should recall, is the bridge through which you can pass queries and return results. "
   ]
  },
  {
   "cell_type": "code",
   "execution_count": 3,
   "metadata": {},
   "outputs": [
    {
     "name": "stdout",
     "output_type": "stream",
     "text": [
      "('Address',)\n",
      "('Booking',)\n",
      "('Cuisine',)\n",
      "('Customer',)\n",
      "('CustomerAddress',)\n",
      "('Employee',)\n",
      "('EmployeeAddress',)\n",
      "('FoodAndDrinkItems',)\n",
      "('OrderDate',)\n",
      "('OrderDeliveryStatus',)\n",
      "('OrderProduct',)\n",
      "('Orders',)\n",
      "('OrderType',)\n",
      "('Type',)\n"
     ]
    }
   ],
   "source": [
    "# show_tables_query = \"SHOW tables\" \n",
    "# cursor.execute(show_tables_query)\n",
    "\n",
    "# Create a cursor\n",
    "cursor = connection.cursor()\n",
    "\n",
    "# Your SQL query\n",
    "show_tables_query = \"SHOW TABLES\"\n",
    "\n",
    "# Execute the query\n",
    "cursor.execute(show_tables_query)\n",
    "\n",
    "# Fetch the results\n",
    "tables = cursor.fetchall()\n",
    "\n",
    "# Display the results\n",
    "for table in tables:\n",
    "    print(table)\n",
    "\n",
    "# Close the cursor and connection when done\n",
    "cursor.close()\n",
    "connection.close()"
   ]
  },
  {
   "cell_type": "code",
   "execution_count": 4,
   "metadata": {},
   "outputs": [],
   "source": [
    "connection.close()"
   ]
  }
 ],
 "metadata": {
  "kernelspec": {
   "display_name": "Python 3",
   "language": "python",
   "name": "python3"
  },
  "language_info": {
   "codemirror_mode": {
    "name": "ipython",
    "version": 3
   },
   "file_extension": ".py",
   "mimetype": "text/x-python",
   "name": "python",
   "nbconvert_exporter": "python",
   "pygments_lexer": "ipython3",
   "version": "3.11.6"
  }
 },
 "nbformat": 4,
 "nbformat_minor": 2
}
