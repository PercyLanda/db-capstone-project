{
 "cells": [
  {
   "cell_type": "code",
   "execution_count": 1,
   "metadata": {},
   "outputs": [],
   "source": [
    "# Install mysql-connector-python if not already installed:\n",
    "# pip3 install mysql-connector-python\n"
   ]
  },
  {
   "cell_type": "code",
   "execution_count": 2,
   "metadata": {},
   "outputs": [],
   "source": [
    "# Import the mysql.connector library and establish a connection:\n",
    "# import mysql.connector as connector\n",
    "import mysql.connector\n",
    "\n",
    "# Replace these with your actual database connection details\n",
    "connection = mysql.connector.connect(\n",
    "    # host='local',\n",
    "    user='root',\n",
    "    password='@1OG6b4g',\n",
    "    database='LittleLemonDB',\n",
    ")\n",
    "\n",
    "# connection = connector.connect(user = \"your_username\", password = \"your_password\", db = \"database_name\") \n",
    "# connection = connector.connect(user = \"root\", password = \"@1OG6b4g\", db = \"LittleLemonDB\") "
   ]
  },
  {
   "cell_type": "code",
   "execution_count": 3,
   "metadata": {},
   "outputs": [],
   "source": [
    "# Create a Cursor:\n",
    "cursor = connection.cursor()"
   ]
  },
  {
   "cell_type": "code",
   "execution_count": 4,
   "metadata": {},
   "outputs": [],
   "source": [
    "# Wrap the Query in a String:\n",
    "# p_CustomerID, p_BookingDate DATE, p_TableNumber\n",
    "query = \"\"\"\n",
    "CALL AddBooking(10, '2023-12-31', 21);\n",
    "\"\"\""
   ]
  },
  {
   "cell_type": "code",
   "execution_count": 5,
   "metadata": {},
   "outputs": [],
   "source": [
    "# Execute the Query:\n",
    "cursor.execute(query)"
   ]
  },
  {
   "cell_type": "code",
   "execution_count": 6,
   "metadata": {},
   "outputs": [
    {
     "name": "stdout",
     "output_type": "stream",
     "text": [
      "('New Booking Added',)\n"
     ]
    }
   ],
   "source": [
    "# Fetch and Display Results (Optional):\n",
    "# If the query returns results, you can fetch and display them.\n",
    "results = cursor.fetchall()\n",
    "\n",
    "for row in results:\n",
    "    print(row)"
   ]
  },
  {
   "cell_type": "code",
   "execution_count": 7,
   "metadata": {},
   "outputs": [],
   "source": [
    "# Close Cursor and Connection:\n",
    "# After executing the query and fetching the results, it's good practice to close the cursor and the database connection.\n",
    "cursor.close()\n",
    "connection.close()"
   ]
  }
 ],
 "metadata": {
  "kernelspec": {
   "display_name": "Python 3",
   "language": "python",
   "name": "python3"
  },
  "language_info": {
   "codemirror_mode": {
    "name": "ipython",
    "version": 3
   },
   "file_extension": ".py",
   "mimetype": "text/x-python",
   "name": "python",
   "nbconvert_exporter": "python",
   "pygments_lexer": "ipython3",
   "version": "3.9.6"
  }
 },
 "nbformat": 4,
 "nbformat_minor": 2
}
