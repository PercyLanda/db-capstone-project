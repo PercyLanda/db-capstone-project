{
 "cells": [
  {
   "cell_type": "code",
   "execution_count": 1,
   "metadata": {},
   "outputs": [],
   "source": [
    "# Install mysql-connector-python if not already installed:\n",
    "# !pip3 install mysql-connector-python"
   ]
  },
  {
   "cell_type": "code",
   "execution_count": 2,
   "metadata": {},
   "outputs": [],
   "source": [
    "# Import the mysql.connector library and establish a connection:\n",
    "# import mysql.connector as connector\n",
    "import mysql.connector\n",
    "\n",
    "# Replace these with your actual database connection details\n",
    "connection = mysql.connector.connect(\n",
    "    # host='local',\n",
    "    user='root',\n",
    "    password='@1OG6b4g',\n",
    "    database='LittleLemonDB',\n",
    ")"
   ]
  },
  {
   "cell_type": "code",
   "execution_count": 3,
   "metadata": {},
   "outputs": [],
   "source": [
    "# Create a Cursor:\n",
    "cursor = connection.cursor()"
   ]
  },
  {
   "cell_type": "markdown",
   "metadata": {},
   "source": [
    "Below is BookingID = 20 before it was updated:"
   ]
  },
  {
   "cell_type": "code",
   "execution_count": 4,
   "metadata": {},
   "outputs": [
    {
     "name": "stdout",
     "output_type": "stream",
     "text": [
      "BookingID: 20\n",
      "BookingDate: 2023-12-31\n",
      "BookingTime: 16:30:00\n"
     ]
    }
   ],
   "source": [
    "# BookingID = 12 before it was updated\n",
    "cursor.execute(\"SELECT BookingID, BookingDate, BookingTime FROM Booking WHERE BookingID = 20;\")\n",
    "result = cursor.fetchone()\n",
    "\n",
    "# Print the values in the affected row\n",
    "print(\"BookingID:\", result[0])\n",
    "print(\"BookingDate:\", result[1])\n",
    "print(\"BookingTime:\", result[2])"
   ]
  },
  {
   "cell_type": "code",
   "execution_count": 5,
   "metadata": {},
   "outputs": [],
   "source": [
    "# cursor = connection.cursor()\n",
    "# Wrap the Query in a String:\n",
    "# Replace the placeholders below with \n",
    "    #  BookingID\n",
    "    #  BookingDate\n",
    "    #  BookingTime\n",
    "query = \"\"\"\n",
    "CALL UpdateBooking(20, '2023-11-22', '10:00:00');\n",
    "\"\"\""
   ]
  },
  {
   "cell_type": "code",
   "execution_count": 6,
   "metadata": {},
   "outputs": [],
   "source": [
    "# Execute the Query:\n",
    "cursor.execute(query)"
   ]
  },
  {
   "cell_type": "code",
   "execution_count": 7,
   "metadata": {},
   "outputs": [],
   "source": [
    "# Commit the changes\n",
    "connection.commit()"
   ]
  },
  {
   "cell_type": "code",
   "execution_count": 8,
   "metadata": {},
   "outputs": [
    {
     "name": "stdout",
     "output_type": "stream",
     "text": [
      "Rows affected: 1\n"
     ]
    }
   ],
   "source": [
    "print(\"Rows affected:\", cursor.rowcount)"
   ]
  },
  {
   "cell_type": "markdown",
   "metadata": {},
   "source": [
    "Below is BookingID = 20 after it was updated:"
   ]
  },
  {
   "cell_type": "code",
   "execution_count": 9,
   "metadata": {},
   "outputs": [
    {
     "name": "stdout",
     "output_type": "stream",
     "text": [
      "BookingID: 20\n",
      "BookingDate: 2023-11-22\n",
      "BookingTime: 10:00:00\n"
     ]
    }
   ],
   "source": [
    "# BookingID = 20 after it was updated\n",
    "cursor.execute(\"SELECT BookingID, BookingDate, BookingTime FROM Booking WHERE BookingID = 20;\")\n",
    "result = cursor.fetchone()\n",
    "\n",
    "# Print the values in the affected row\n",
    "print(\"BookingID:\", result[0])\n",
    "print(\"BookingDate:\", result[1])\n",
    "print(\"BookingTime:\", result[2])"
   ]
  },
  {
   "cell_type": "code",
   "execution_count": 10,
   "metadata": {},
   "outputs": [],
   "source": [
    "# Close Cursor and Connection:\n",
    "# After executing the query and fetching the results, it's good practice to close the cursor and the database connection.\n",
    "cursor.close()\n",
    "connection.close()"
   ]
  }
 ],
 "metadata": {
  "kernelspec": {
   "display_name": "Python 3",
   "language": "python",
   "name": "python3"
  },
  "language_info": {
   "codemirror_mode": {
    "name": "ipython",
    "version": 3
   },
   "file_extension": ".py",
   "mimetype": "text/x-python",
   "name": "python",
   "nbconvert_exporter": "python",
   "pygments_lexer": "ipython3",
   "version": "3.9.6"
  }
 },
 "nbformat": 4,
 "nbformat_minor": 2
}
