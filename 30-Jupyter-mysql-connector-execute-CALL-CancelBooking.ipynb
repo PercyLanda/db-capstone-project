{
 "cells": [
  {
   "cell_type": "code",
   "execution_count": 1,
   "metadata": {},
   "outputs": [],
   "source": [
    "# Install mysql-connector-python if not already installed:\n",
    "# !pip3 install mysql-connector-python"
   ]
  },
  {
   "cell_type": "code",
   "execution_count": 2,
   "metadata": {},
   "outputs": [],
   "source": [
    "import mysql.connector\n",
    "\n",
    "# Replace these with your actual database connection details\n",
    "connection = mysql.connector.connect(\n",
    "    user='root',\n",
    "    password='@1OG6b4g',\n",
    "    database='LittleLemonDB',\n",
    ")"
   ]
  },
  {
   "cell_type": "code",
   "execution_count": 3,
   "metadata": {},
   "outputs": [],
   "source": [
    "# Create a Cursor\n",
    "cursor = connection.cursor()"
   ]
  },
  {
   "cell_type": "code",
   "execution_count": 4,
   "metadata": {},
   "outputs": [
    {
     "name": "stdout",
     "output_type": "stream",
     "text": [
      "BookingID before cancel: (24, datetime.date(2023, 11, 13), datetime.timedelta(seconds=70200))\n"
     ]
    }
   ],
   "source": [
    "# Fetch and print BookingID = 24 before cancellation\n",
    "cursor.execute(\"SELECT BookingID, BookingDate, BookingTime FROM Booking WHERE BookingID = 24;\")\n",
    "result_before_cancel = cursor.fetchone()\n",
    "print(\"BookingID before cancel:\", result_before_cancel)"
   ]
  },
  {
   "cell_type": "code",
   "execution_count": 5,
   "metadata": {},
   "outputs": [
    {
     "name": "stdout",
     "output_type": "stream",
     "text": [
      "Confirmation Message: Booking 24 Canceled\n"
     ]
    }
   ],
   "source": [
    "# Execute the stored procedure with the parameter and an OUT parameter for the confirmation message\n",
    "cursor.callproc('CancelBooking', [24])\n",
    "cursor.execute(\"SELECT CONCAT('Booking ', 24, ' Canceled') AS ConfirmationMessage;\")\n",
    "confirmation_message = cursor.fetchone()[0]\n",
    "print(\"Confirmation Message:\", confirmation_message)"
   ]
  },
  {
   "cell_type": "code",
   "execution_count": 6,
   "metadata": {},
   "outputs": [
    {
     "name": "stdout",
     "output_type": "stream",
     "text": [
      "BookingID after cancel: None\n"
     ]
    }
   ],
   "source": [
    "# Fetch and print BookingID = 24 after cancellation\n",
    "cursor.execute(\"SELECT BookingID, BookingDate, BookingTime FROM Booking WHERE BookingID = 24;\")\n",
    "result_after_cancel = cursor.fetchone()\n",
    "print(\"BookingID after cancel:\", result_after_cancel)"
   ]
  },
  {
   "cell_type": "code",
   "execution_count": 7,
   "metadata": {},
   "outputs": [],
   "source": [
    "# Commit the changes\n",
    "connection.commit()"
   ]
  },
  {
   "cell_type": "code",
   "execution_count": 8,
   "metadata": {},
   "outputs": [],
   "source": [
    "# Close Cursor and Connection\n",
    "cursor.close()\n",
    "connection.close()"
   ]
  }
 ],
 "metadata": {
  "kernelspec": {
   "display_name": "Python 3",
   "language": "python",
   "name": "python3"
  },
  "language_info": {
   "codemirror_mode": {
    "name": "ipython",
    "version": 3
   },
   "file_extension": ".py",
   "mimetype": "text/x-python",
   "name": "python",
   "nbconvert_exporter": "python",
   "pygments_lexer": "ipython3",
   "version": "3.9.6"
  }
 },
 "nbformat": 4,
 "nbformat_minor": 2
}
