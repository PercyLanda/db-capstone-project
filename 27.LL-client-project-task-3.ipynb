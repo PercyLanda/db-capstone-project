{
 "cells": [
  {
   "cell_type": "code",
   "execution_count": 3,
   "metadata": {},
   "outputs": [],
   "source": [
    "# Install mysql-connector-python if not already installed:\n",
    "# pip3 install mysql-connector-python\n"
   ]
  },
  {
   "cell_type": "code",
   "execution_count": 4,
   "metadata": {},
   "outputs": [],
   "source": [
    "# Import the mysql.connector library and establish a connection:\n",
    "# import mysql.connector as connector\n",
    "import mysql.connector\n",
    "\n",
    "# Replace these with your actual database connection details\n",
    "connection = mysql.connector.connect(\n",
    "    # host='local',\n",
    "    user='root',\n",
    "    password='@1OG6b4g',\n",
    "    database='LittleLemonDB',\n",
    ")\n",
    "\n",
    "# connection = connector.connect(user = \"your_username\", password = \"your_password\", db = \"database_name\") \n",
    "# connection = connector.connect(user = \"root\", password = \"@1OG6b4g\", db = \"LittleLemonDB\") "
   ]
  },
  {
   "cell_type": "code",
   "execution_count": 5,
   "metadata": {},
   "outputs": [],
   "source": [
    "# Create a Cursor:\n",
    "cursor = connection.cursor()"
   ]
  },
  {
   "cell_type": "code",
   "execution_count": 6,
   "metadata": {},
   "outputs": [],
   "source": [
    "# Wrap the Query in a String:\n",
    "\n",
    "query = \"\"\"\n",
    "SELECT c.CustomerName, c.Email, c.PhoneNumber, o.GrandTotal\n",
    "FROM Customer AS c\n",
    "LEFT JOIN Orders AS o\n",
    "ON c.CustomerID = o.CustomerID\n",
    "WHERE GrandTotal >= 60;\n",
    "\"\"\""
   ]
  },
  {
   "cell_type": "code",
   "execution_count": 7,
   "metadata": {},
   "outputs": [],
   "source": [
    "# Execute the Query:\n",
    "cursor.execute(query)"
   ]
  },
  {
   "cell_type": "code",
   "execution_count": 8,
   "metadata": {},
   "outputs": [
    {
     "name": "stdout",
     "output_type": "stream",
     "text": [
      "('John Smith', 'john.smith@example.com', '+1 (123) 456-7890', Decimal('105.00'))\n",
      "('Mary Johnson', 'mary.johnson@example.com', '+1 (234) 567-8901', Decimal('141.00'))\n",
      "('Jennifer Davis', 'jennifer.davis@example.com', '+1 (456) 789-0123', Decimal('168.00'))\n",
      "('Michael Brown', 'michael.brown@example.com', '+1 (567) 890-1234', Decimal('135.00'))\n",
      "('Linda Jones', 'linda.jones@example.com', '+1 (678) 901-2345', Decimal('132.00'))\n",
      "('Patricia Wilson', 'patricia.wilson@example.com', '+1 (890) 123-4567', Decimal('125.00'))\n",
      "('William Lee', 'william.lee@example.com', '+1 (901) 234-5678', Decimal('160.00'))\n",
      "('Karen Harris', 'karen.harris@example.com', '+1 (012) 345-6789', Decimal('74.00'))\n",
      "('Richard Clark', 'richard.clark@example.com', '+1 (123) 456-7890', Decimal('162.00'))\n",
      "('Sandra Young', 'sandra.young@example.com', '+1 (234) 567-8901', Decimal('93.00'))\n",
      "('Joseph Turner', 'joseph.turner@example.com', '+1 (345) 678-9012', Decimal('62.00'))\n",
      "('Nancy Allen', 'nancy.allen@example.com', '+1 (456) 789-0123', Decimal('192.00'))\n",
      "('Charles Hall', 'charles.hall@example.com', '+1 (567) 890-1234', Decimal('192.00'))\n",
      "('Elizabeth King', 'elizabeth.king@example.com', '+1 (678) 901-2345', Decimal('155.00'))\n",
      "('Margaret Walker', 'margaret.walker@example.com', '+1 (890) 123-4567', Decimal('210.00'))\n",
      "('Daniel Martinez', 'daniel.martinez@example.com', '+1 (901) 234-5678', Decimal('117.00'))\n",
      "('Susan White', 'susan.white@example.com', '+1 (012) 345-6789', Decimal('176.00'))\n",
      "('Paul Garcia', 'paul.garcia@example.com', '+1 (123) 456-7890', Decimal('69.00'))\n",
      "('Jessica Scott', 'jessica.scott@example.com', '+1 (234) 567-8901', Decimal('156.00'))\n",
      "('Mark Evans', 'mark.evans@example.com', '+1 (345) 678-9012', Decimal('228.00'))\n",
      "('John Robinson', 'john.robinson@example.com', '+1 (567) 890-1234', Decimal('145.00'))\n",
      "('Kimberly Baker', 'kimberly.baker@example.com', '+1 (678) 901-2345', Decimal('150.00'))\n",
      "('Donna Rodriguez', 'donna.rodriguez@example.com', '+1 (890) 123-4567', Decimal('248.00'))\n",
      "('Ronald King', 'ronald.king@example.com', '+1 (901) 234-5678', Decimal('109.00'))\n",
      "('Lisa Turner', 'lisa.turner@example.com', '+1 (012) 345-6789', Decimal('231.00'))\n",
      "('Kenneth Green', 'kenneth.green@example.com', '+1 (123) 456-7890', Decimal('176.00'))\n",
      "('Ashley Taylor', 'ashley.taylor@example.com', '+1 (234) 567-8901', Decimal('62.00'))\n",
      "('Steven Adams', 'steven.adams@example.com', '+1 (345) 678-9012', Decimal('129.00'))\n",
      "('Deborah Lewis', 'deborah.lewis@example.com', '+1 (456) 789-0123', Decimal('144.00'))\n",
      "('Edward Hernandez', 'edward.hernandez@example.com', '+1 (567) 890-1234', Decimal('72.00'))\n",
      "('Cynthia Brown', 'cynthia.brown@example.com', '+1 (678) 901-2345', Decimal('228.00'))\n",
      "('Brian Moore', 'brian.moore@example.com', '+1 (789) 012-3456', Decimal('101.00'))\n",
      "('Sharon Hall', 'sharon.hall@example.com', '+1 (890) 123-4567', Decimal('216.00'))\n",
      "('Angela Clark', 'angela.clark@example.com', '+1 (012) 345-6789', Decimal('256.00'))\n",
      "('Larry Davis', 'larry.davis@example.com', '+1 (123) 456-7890', Decimal('79.00'))\n",
      "('Helen Garcia', 'helen.garcia@example.com', '+1 (234) 567-8901', Decimal('162.00'))\n",
      "('Frank Martinez', 'frank.martinez@example.com', '+1 (345) 678-9012', Decimal('240.00'))\n",
      "('Timothy Jones', 'timothy.jones@example.com', '+1 (567) 890-1234', Decimal('141.00'))\n",
      "('Ruth Wilson', 'ruth.wilson@example.com', '+1 (678) 901-2345', Decimal('150.00'))\n"
     ]
    }
   ],
   "source": [
    "# Fetch and Display Results (Optional):\n",
    "# If the query returns results, you can fetch and display them.\n",
    "results = cursor.fetchall()\n",
    "\n",
    "for row in results:\n",
    "    print(row)"
   ]
  },
  {
   "cell_type": "code",
   "execution_count": 9,
   "metadata": {},
   "outputs": [],
   "source": [
    "# Close Cursor and Connection:\n",
    "# After executing the query and fetching the results, it's good practice to close the cursor and the database connection.\n",
    "cursor.close()\n",
    "connection.close()"
   ]
  }
 ],
 "metadata": {
  "kernelspec": {
   "display_name": "Python 3",
   "language": "python",
   "name": "python3"
  },
  "language_info": {
   "codemirror_mode": {
    "name": "ipython",
    "version": 3
   },
   "file_extension": ".py",
   "mimetype": "text/x-python",
   "name": "python",
   "nbconvert_exporter": "python",
   "pygments_lexer": "ipython3",
   "version": "3.11.6"
  }
 },
 "nbformat": 4,
 "nbformat_minor": 2
}
